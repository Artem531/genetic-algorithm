{
 "cells": [
  {
   "cell_type": "code",
   "execution_count": 1,
   "metadata": {},
   "outputs": [
    {
     "name": "stderr",
     "output_type": "stream",
     "text": [
      "/home/artem/anaconda3/envs/pixor_tmp/lib/python3.6/importlib/_bootstrap.py:219: RuntimeWarning: numpy.ufunc size changed, may indicate binary incompatibility. Expected 192 from C header, got 216 from PyObject\n",
      "  return f(*args, **kwds)\n"
     ]
    }
   ],
   "source": [
    "import math\n",
    "import random\n",
    "import copy\n",
    "import numpy as np\n",
    "import matplotlib.pyplot as plt\n",
    "\n",
    "# equations\n",
    "def parabula(x):\n",
    "    return x[0]**2 - x[1]\n",
    "\n",
    "def linear(x):\n",
    "    return x[0] - x[1]\n",
    "\n",
    "\n",
    "# mutation\n",
    "\n",
    "def mutation(generation, features, feature_range, number_of_mutations, vis_key = False):\n",
    "    # if we want visualise make new array for visualise\n",
    "    if vis_key == True:\n",
    "        features_for_vis = copy.deepcopy(features)\n",
    "    # take id of mutants\n",
    "    mutants = random.sample(generation, number_of_mutations)\n",
    "    # add new mutant skill\n",
    "    for mutant_id in mutants:\n",
    "        # where to change\n",
    "        skill_id = random.sample(range(len(features[mutant_id])), 1)[0]\n",
    "        # what to change\n",
    "        new_skill = random.sample(feature_range, 1)\n",
    "        if vis_key == True:\n",
    "            features_for_vis[mutant_id][skill_id] = new_skill\n",
    "        features[mutant_id][skill_id] = new_skill[0]\n",
    "    if vis_key == True:\n",
    "        return features, features_for_vis\n",
    "    return features\n",
    "\n",
    "# reproduction\n",
    "\n",
    "# sigmoid to make + prob bigger\n",
    "def sigmoid_plus(x):\n",
    "    try:\n",
    "        #math domain error fix\n",
    "        shift = 1\n",
    "        #---------------------\n",
    "        x = math.log10(x + shift) if x > 0 else -math.log10(abs(x) + shift)\n",
    "        result = 1 / (1 + math.exp(x))\n",
    "    except OverflowError:\n",
    "        result = 0\n",
    "    return result\n",
    "\n",
    "# sigmoid to make - prob bigger\n",
    "def sigmoid_minus(x):\n",
    "    try:\n",
    "        #math domain error fix\n",
    "        shift = 1\n",
    "        #---------------------\n",
    "        x = math.log10(x + shift) if x > 0 else -math.log10(abs(x) + shift)\n",
    "        result = 1 / (1 + math.exp(-x))\n",
    "    except OverflowError:\n",
    "        result = 0\n",
    "    return result\n",
    "\n",
    "def count_probs_to_take_feature(generation, find_max):\n",
    "    # alpha to except division by 0 \n",
    "    alpha = 0.000000000000000000001\n",
    "    if find_max == True:\n",
    "        coefficient_to_survive = list(map(lambda i: 1 / (sigmoid_plus(i) + alpha), generation))\n",
    "    else:\n",
    "        coefficient_to_survive = list(map(lambda i: 1 / (sigmoid_minus(i) + alpha), generation))\n",
    "    sum_of_probs_to_survive = np.sum(coefficient_to_survive)\n",
    "    # make prob to be taken\n",
    "    probs = list(map(lambda i: i / sum_of_probs_to_survive, coefficient_to_survive))\n",
    "    return probs\n",
    "\n",
    "\n",
    "def make_child(father, mother, vis_key):\n",
    "    # barrier to split features\n",
    "    alpha = random.sample(range(int(len(father) / 2)), 1)[0]\n",
    "    alpha = -alpha % len(father)\n",
    "    child = father[:alpha] + mother[alpha:]\n",
    "    if vis_key == True:\n",
    "        vis_child = [father[:alpha]], mother[alpha:]\n",
    "        return child, vis_child\n",
    "    return child\n",
    "\n",
    "\n",
    "def reproduction(generation_results, features, num_of_children, vis_key=False, find_max = True):\n",
    "    \n",
    "    # discard the same results, because they will affect to prob\n",
    "    generation_results, index = np.unique(generation_results, return_index=True)\n",
    "    features = [features[i] for i in index]\n",
    "\n",
    "    new_generation_features = []\n",
    "    vis_new_generation_features = []\n",
    "\n",
    "    for child_id in range(num_of_children):\n",
    "        # take father and mother with the best features\n",
    "        probs = count_probs_to_take_feature(generation_results, find_max)\n",
    "        father_id = np.random.choice(range(len(generation_results)), p=probs)\n",
    "        mother_id = np.random.choice(range(len(generation_results)), p=probs)\n",
    "\n",
    "        if vis_key == True:\n",
    "            child, vis_child = make_child(features[father_id], features[mother_id], vis_key)\n",
    "            vis_new_generation_features.append(vis_child)\n",
    "        else:\n",
    "            child = make_child(features[father_id], features[mother_id], vis_key)\n",
    "        new_generation_features.append(child)\n",
    "    if vis_key == True:\n",
    "        return new_generation_features, vis_new_generation_features\n",
    "    return new_generation_features\n",
    "\n",
    "# evaluate\n",
    "\n",
    "def evaluate(features, function):\n",
    "    generation_results = []\n",
    "    for feature in features:\n",
    "        generation_results.append(function(feature))\n",
    "    return generation_results\n",
    "\n",
    "# run genetic algorithm\n",
    "\n",
    "def run_genetic_algorithm(features, function, feature_range, num_of_children, speed_parameter, year, find_max):\n",
    "    generation_results = evaluate(features, function)\n",
    "    generation_ids = range(len(generation_results))\n",
    "    if year % speed_parameter == 0:\n",
    "        # make mutation\n",
    "        number_of_mutations = random.sample(range(int(len(generation_results) / 10 + 1)), 1)[0]\n",
    "        features = mutation(generation_ids, copy.deepcopy(features), feature_range, number_of_mutations)\n",
    "        generation_results = evaluate(features, function)\n",
    "    # get new features\n",
    "    features = reproduction(generation_results, features, num_of_children, find_max = find_max)\n",
    "    return features\n",
    "\n",
    "# plot history\n",
    "\n",
    "def plot(History):\n",
    "    fig = plt.figure()\n",
    "\n",
    "    ax = fig.add_subplot(111)\n",
    "    fig.subplots_adjust(top=0.85)\n",
    "    ax.set_xlabel('year')\n",
    "    ax.set_ylabel('value')\n",
    "\n",
    "    # Create a legend for the first line.\n",
    "    line1, = plt.plot(range(len(History)), History, label=\"agent\", linestyle='--')\n",
    "\n",
    "    first_legend = plt.legend(handles=[line1], loc=1)\n",
    "    # Add the legend manually to the current Axes.\n",
    "    ax = plt.gca().add_artist(first_legend)\n",
    "    plt.show()"
   ]
  },
  {
   "cell_type": "code",
   "execution_count": 23,
   "metadata": {},
   "outputs": [],
   "source": [
    "\n",
    "def find_max():\n",
    "    features = [[10, 4], [14, 21], [10, 1], [14, 10], [10, 40]]\n",
    "\n",
    "    function = parabula\n",
    "    init_results = np.average(evaluate(features, function))\n",
    "    print(evaluate(features, function))\n",
    "    print('init results: ', init_results)\n",
    "\n",
    "    life_time = 1000\n",
    "    old_generation_results = init_results\n",
    "    feature_range = range(-40, 40)\n",
    "    num_of_children = 100\n",
    "\n",
    "    #speed_parameter = int(life_time / 50)\n",
    "    speed_parameter = 5\n",
    "    History = []\n",
    "\n",
    "    find_max = True\n",
    "    for year in range(life_time):\n",
    "        # print(year)\n",
    "        features = run_genetic_algorithm(features, function, feature_range, num_of_children, speed_parameter, year, find_max)\n",
    "        old_generation_results = evaluate(features, function)\n",
    "        result = np.average(old_generation_results)\n",
    "        History.append(result)\n",
    "\n",
    "    print('done!')\n",
    "    print('final result', np.average(old_generation_results))\n",
    "\n",
    "    plot(History)\n",
    "\n",
    "\n",
    "def find_min(features, function, life_time, feature_range, num_of_children, speed_parameter):\n",
    "\n",
    "\n",
    "    init_results = np.average(evaluate(features, function))\n",
    "    old_generation_results = init_results\n",
    "    print(evaluate(features, function))\n",
    "    print('init results: ', init_results)\n",
    "    History = []\n",
    "\n",
    "    find_max = False\n",
    "    for year in range(life_time):\n",
    "        # print(year)\n",
    "        features = run_genetic_algorithm(features, function, feature_range, num_of_children, speed_parameter, year, find_max = find_max)\n",
    "        old_generation_results = evaluate(features, function)\n",
    "        result = np.average(old_generation_results)\n",
    "        History.append(result)\n",
    "\n",
    "    print('done!')\n",
    "    print('final result', np.average(old_generation_results))\n",
    "\n",
    "    plot(History)"
   ]
  },
  {
   "cell_type": "code",
   "execution_count": 24,
   "metadata": {},
   "outputs": [
    {
     "name": "stdout",
     "output_type": "stream",
     "text": [
      "[96, 175, 99, 186, 60]\n",
      "init results:  123.2\n",
      "done!\n",
      "final result -23.6\n"
     ]
    },
    {
     "data": {
      "image/png": "[encoded data removed]",
      "text/plain": [
       "<Figure size 432x288 with 1 Axes>"
      ]
     },
     "metadata": {
      "needs_background": "light"
     },
     "output_type": "display_data"
    }
   ],
   "source": [
    "features = [[10, 4], [14, 21], [10, 1], [14, 10], [10, 40]]\n",
    "function = parabula\n",
    "life_time = 1000\n",
    "\n",
    "feature_range = range(-40, 40)\n",
    "num_of_children = 10\n",
    "speed_parameter = 5\n",
    "\n",
    "find_min(features, function, life_time, feature_range, num_of_children, speed_parameter)"
   ]
  },
  {
   "cell_type": "code",
   "execution_count": 19,
   "metadata": {},
   "outputs": [
    {
     "name": "stdout",
     "output_type": "stream",
     "text": [
      "[96, 175, 99, 186, 60]\n",
      "init results:  123.2\n",
      "done!\n",
      "final result 1442.59\n"
     ]
    },
    {
     "data": {
      "image/png": "[encoded data removed]",
      "text/plain": [
       "<Figure size 432x288 with 1 Axes>"
      ]
     },
     "metadata": {
      "needs_background": "light"
     },
     "output_type": "display_data"
    }
   ],
   "source": [
    "find_max()"
   ]
  },
  {
   "cell_type": "code",
   "execution_count": 25,
   "metadata": {},
   "outputs": [
    {
     "ename": "ModuleNotFoundError",
     "evalue": "No module named 'ackley'",
     "output_type": "error",
     "traceback": [
      "\u001b[0;31m---------------------------------------------------------------------------\u001b[0m",
      "\u001b[0;31mModuleNotFoundError\u001b[0m                       Traceback (most recent call last)",
      "\u001b[0;32m<ipython-input-25-087d1901daf4>\u001b[0m in \u001b[0;36m<module>\u001b[0;34m\u001b[0m\n\u001b[0;32m----> 1\u001b[0;31m \u001b[0;32mimport\u001b[0m \u001b[0mackley\u001b[0m\u001b[0;34m\u001b[0m\u001b[0;34m\u001b[0m\u001b[0m\n\u001b[0m",
      "\u001b[0;31mModuleNotFoundError\u001b[0m: No module named 'ackley'"
     ]
    }
   ],
   "source": [
    "import ackley"
   ]
  },
  {
   "cell_type": "code",
   "execution_count": null,
   "metadata": {},
   "outputs": [],
   "source": []
  }
 ],
 "metadata": {
  "kernelspec": {
   "display_name": "Python 3",
   "language": "python",
   "name": "python3"
  },
  "language_info": {
   "codemirror_mode": {
    "name": "ipython",
    "version": 3
   },
   "file_extension": ".py",
   "mimetype": "text/x-python",
   "name": "python",
   "nbconvert_exporter": "python",
   "pygments_lexer": "ipython3",
   "version": "3.6.7"
  }
 },
 "nbformat": 4,
 "nbformat_minor": 2
}
