{
 "cells": [
  {
   "cell_type": "code",
   "execution_count": 20,
   "metadata": {},
   "outputs": [],
   "source": [
    "import math\n",
    "import random\n",
    "import copy\n",
    "import numpy as np"
   ]
  },
  {
   "cell_type": "markdown",
   "metadata": {},
   "source": [
    "# equations"
   ]
  },
  {
   "cell_type": "code",
   "execution_count": 21,
   "metadata": {},
   "outputs": [],
   "source": [
    "def parabula(x):\n",
    "    return x[0]**2 - x[1]"
   ]
  },
  {
   "cell_type": "markdown",
   "metadata": {},
   "source": [
    "# selection"
   ]
  },
  {
   "cell_type": "code",
   "execution_count": 73,
   "metadata": {},
   "outputs": [],
   "source": [
    "def selection(generation, barrier):\n",
    "    #print(generation, barrier)\n",
    "    list_ids = list(map(lambda sample: [sample[0], sample[1] >= barrier], enumerate(generation)))\n",
    "    top_samples = []\n",
    "    for sample in list_ids:\n",
    "        if sample[1] == True:\n",
    "            top_samples.append(sample[0])\n",
    "    return top_samples"
   ]
  },
  {
   "cell_type": "markdown",
   "metadata": {},
   "source": [
    "# test selection"
   ]
  },
  {
   "cell_type": "code",
   "execution_count": 23,
   "metadata": {},
   "outputs": [
    {
     "name": "stdout",
     "output_type": "stream",
     "text": [
      "done!\n"
     ]
    }
   ],
   "source": [
    "generation = [10, 4, 100, 70, 60]\n",
    "barrier = 50\n",
    "correct_answer = [2, 3, 4]\n",
    "\n",
    "assert correct_answer == selection(generation, barrier)\n",
    "print('done!')"
   ]
  },
  {
   "cell_type": "markdown",
   "metadata": {},
   "source": [
    "# mutation"
   ]
  },
  {
   "cell_type": "code",
   "execution_count": 24,
   "metadata": {},
   "outputs": [],
   "source": [
    "def mutation(generation, features, feature_range, number_of_mutations, vis_key = False):\n",
    "    if vis_key == True:\n",
    "        features_for_vis = copy.deepcopy(features)\n",
    "    mutants = random.sample(generation, number_of_mutations)\n",
    "    for mutant_id in mutants:\n",
    "        skill_id = random.sample(range(len(features[mutant_id])), 1)[0]\n",
    "        new_skill = random.sample(feature_range, 1)\n",
    "        if vis_key == True:\n",
    "            features_for_vis[mutant_id][skill_id] = new_skill\n",
    "        features[mutant_id][skill_id] = new_skill[0]\n",
    "    if vis_key == True:\n",
    "        return features, features_for_vis\n",
    "    return features"
   ]
  },
  {
   "cell_type": "markdown",
   "metadata": {},
   "source": [
    "# test mutation"
   ]
  },
  {
   "cell_type": "code",
   "execution_count": 25,
   "metadata": {},
   "outputs": [
    {
     "name": "stdout",
     "output_type": "stream",
     "text": [
      "[[10, 4, 4], [14, 21, 4], [10, 55, 1], [10, 4, 10], [10, 4, 10]]\n",
      "[[10, [54], 4], [14, [9], 4], [10, 55, 1], [[24], 4, 10], [[30], 4, 10]]\n",
      "[[10, 4, 4], [14, [90], 4], [10, 55, [36]], [10, [98], 10], [[14], 4, 10]]\n",
      "done!\n"
     ]
    }
   ],
   "source": [
    "generation = [10, 4, 100, 70, 60]\n",
    "generation_ids = range(len(generation))\n",
    "features = [[10, 4, 4], [14, 21, 4], [10, 55, 1], [10, 4, 10], [10, 4, 10]]\n",
    "feature_range = range(100)\n",
    "number_of_mutations = 4\n",
    "vis_key = True\n",
    "\n",
    "new_features, new_features_for_vis = mutation(generation_ids, copy.deepcopy(features), feature_range, number_of_mutations, vis_key)\n",
    "new_features1, new_features_for_vis1 = mutation(generation_ids, copy.deepcopy(features), feature_range, number_of_mutations, vis_key)\n",
    "assert new_features != new_features1\n",
    "\n",
    "print(features)\n",
    "print(new_features_for_vis)\n",
    "print(new_features_for_vis1)\n",
    "print('done!')"
   ]
  },
  {
   "cell_type": "markdown",
   "metadata": {},
   "source": [
    "# reproduction"
   ]
  },
  {
   "cell_type": "code",
   "execution_count": 29,
   "metadata": {},
   "outputs": [],
   "source": [
    "def make_child(father, mother, vis_key):\n",
    "    alpha = random.sample(range(int(len(father) / 2)), 1)[0]\n",
    "    alpha = -alpha % len(father)\n",
    "    child = father[:alpha] + mother[alpha:]\n",
    "    if vis_key == True:\n",
    "        vis_child = [father[:alpha]], mother[alpha:]\n",
    "        return child, vis_child\n",
    "    return child\n",
    "\n",
    "def reproduction(generation_results, features, num_of_children, barrier, vis_key= False):\n",
    "    generation_ids = range(len(generation_results))\n",
    "    elite_ids = selection(generation_results, barrier)\n",
    "    new_generation_features = []\n",
    "    vis_new_generation_features = []\n",
    "    \n",
    "    for child_id in range(num_of_children):\n",
    "        father_id = random.sample(range(len(elite_ids)), 1)[0]\n",
    "        mother_id = random.sample(range(len(generation_ids)), 1)[0]\n",
    "        if vis_key == True:\n",
    "            child, vis_child = make_child(features[father_id], features[mother_id], vis_key)\n",
    "            vis_new_generation_features.append(vis_child)\n",
    "        else:\n",
    "            child = make_child(features[father_id], features[mother_id], vis_key)\n",
    "        new_generation_features.append(child)\n",
    "    if vis_key == True:\n",
    "        return new_generation_features, vis_new_generation_features\n",
    "    return new_generation_features\n"
   ]
  },
  {
   "cell_type": "markdown",
   "metadata": {},
   "source": [
    "# test reproduction"
   ]
  },
  {
   "cell_type": "code",
   "execution_count": 30,
   "metadata": {},
   "outputs": [
    {
     "name": "stdout",
     "output_type": "stream",
     "text": [
      "new!\n",
      "[([[]], [10, 55, 1]), ([[]], [10, 4, 10]), ([[]], [10, 4, 10]), ([[]], [10, 4, 10]), ([[]], [10, 4, 4]), ([[]], [10, 4, 4]), ([[]], [10, 4, 4]), ([[]], [10, 4, 10]), ([[]], [10, 4, 4]), ([[]], [10, 4, 10])]\n",
      "new!\n",
      "[([[]], [10, 55, 1]), ([[]], [10, 55, 1]), ([[]], [10, 55, 1]), ([[]], [10, 4, 10]), ([[]], [10, 4, 10]), ([[]], [10, 4, 10]), ([[]], [14, 21, 4]), ([[]], [10, 4, 10]), ([[]], [10, 4, 4]), ([[]], [14, 21, 4])]\n",
      "done!\n"
     ]
    }
   ],
   "source": [
    "generation_results = [10, 4, 100, 70, 60]\n",
    "generation_ids = range(len(generation_results))\n",
    "features = [[10, 4, 4], [14, 21, 4], [10, 55, 1], [10, 4, 10], [10, 4, 10]]\n",
    "number_of_children = 10\n",
    "barrier = 50\n",
    "\n",
    "new_generation_features, vis_new_generation_features = reproduction(generation, features, number_of_children, barrier, True)\n",
    "new_generation_features1, vis_new_generation_features1 = reproduction(generation, features, number_of_children, barrier, True)\n",
    "\n",
    "assert new_generation_features != None\n",
    "assert new_generation_features != new_generation_features1\n",
    "assert len(new_generation_features) == number_of_children\n",
    "\n",
    "print('new!')\n",
    "print(vis_new_generation_features1)\n",
    "print('new!')\n",
    "print(vis_new_generation_features)\n",
    "print('done!')"
   ]
  },
  {
   "cell_type": "markdown",
   "metadata": {},
   "source": [
    "# evaluate"
   ]
  },
  {
   "cell_type": "code",
   "execution_count": 31,
   "metadata": {},
   "outputs": [],
   "source": [
    "def evaluate(features, function):\n",
    "    generation_results = []\n",
    "    for feature in features:\n",
    "        generation_results.append(function(feature))\n",
    "    return generation_results"
   ]
  },
  {
   "cell_type": "markdown",
   "metadata": {},
   "source": [
    "# test evaluate"
   ]
  },
  {
   "cell_type": "code",
   "execution_count": 32,
   "metadata": {},
   "outputs": [
    {
     "name": "stdout",
     "output_type": "stream",
     "text": [
      "[96, 175, 99, 186, 60]\n",
      "done!\n"
     ]
    }
   ],
   "source": [
    "features = [[10, 4], [14, 21], [10, 1], [14, 10], [10, 40]]\n",
    "features1 = [[0, 0], [0, 0], [0, 0], [0, 0], [0, 0]]\n",
    "\n",
    "generation_results = evaluate(features, parabula)\n",
    "generation_results1 = evaluate(features1, parabula)\n",
    "\n",
    "assert generation_results != None\n",
    "assert generation_results1 != generation_results\n",
    "assert np.sum(generation_results1) == 0\n",
    "\n",
    "print(generation_results)\n",
    "print('done!')"
   ]
  },
  {
   "cell_type": "markdown",
   "metadata": {},
   "source": [
    "# run genetic algorithm"
   ]
  },
  {
   "cell_type": "code",
   "execution_count": 75,
   "metadata": {},
   "outputs": [],
   "source": [
    "def run_genetic_algorithm(features, function, old_generation_results, feature_range, num_of_children, barrier, speed_parameter, year):\n",
    "    generation_results = evaluate(features, function)\n",
    "    generation_ids = range(len(generation_results))\n",
    "    if year % speed_parameter == 0:\n",
    "        #print(\"mutation!\")\n",
    "        number_of_mutations = random.sample(range(len(generation_results)), 1)[0]\n",
    "        features = mutation(generation_ids, copy.deepcopy(features), feature_range, number_of_mutations)\n",
    "        generation_results = evaluate(features, function)\n",
    "        result = np.average(old_generation_results)\n",
    "        barrier = result\n",
    "    features = reproduction(generation_results, features, num_of_children, barrier)\n",
    "    return features"
   ]
  },
  {
   "cell_type": "markdown",
   "metadata": {},
   "source": [
    "# final test"
   ]
  },
  {
   "cell_type": "code",
   "execution_count": 92,
   "metadata": {},
   "outputs": [
    {
     "name": "stdout",
     "output_type": "stream",
     "text": [
      "[96, 175, 99, 186, 60]\n",
      "init results:  123.2\n",
      "done!\n",
      "final result 564.33\n"
     ]
    }
   ],
   "source": [
    "features = [[10, 4], [14, 21], [10, 1], [14, 10], [10, 40]]\n",
    "\n",
    "function = parabula\n",
    "init_results = np.average(evaluate(features, function))\n",
    "print(evaluate(features, function))\n",
    "print('init results: ', init_results)\n",
    "\n",
    "life_time = 200\n",
    "old_generation_results = init_results\n",
    "feature_range = range(-40, 40) \n",
    "num_of_children = 1000\n",
    "barrier = 10\n",
    "speed_parameter = 2\n",
    "History = []\n",
    "\n",
    "for year in range(life_time):\n",
    "    features = run_genetic_algorithm(features, function, old_generation_results, feature_range, num_of_children, barrier, speed_parameter, year)\n",
    "    old_generation_results = evaluate(features, function)\n",
    "    result = np.average(old_generation_results)\n",
    "    History.append(result)\n",
    "    barrier = result\n",
    "    #print('results: ', result)\n",
    "    \n",
    "assert np.average(old_generation_results) > init_results\n",
    "print('done!')\n",
    "print('final result', np.average(old_generation_results))"
   ]
  },
  {
   "cell_type": "markdown",
   "metadata": {},
   "source": [
    "# plot history"
   ]
  },
  {
   "cell_type": "code",
   "execution_count": 93,
   "metadata": {},
   "outputs": [
    {
     "data": {
      "image/png": "[encoded data removed]",
      "text/plain": [
       "<Figure size 432x288 with 1 Axes>"
      ]
     },
     "metadata": {
      "needs_background": "light"
     },
     "output_type": "display_data"
    }
   ],
   "source": [
    "import matplotlib.pyplot as plt\n",
    "\n",
    "fig = plt.figure()\n",
    "\n",
    "ax = fig.add_subplot(111)\n",
    "fig.subplots_adjust(top=0.85)\n",
    "ax.set_xlabel('year')\n",
    "ax.set_ylabel('value')\n",
    "\n",
    "# Create a legend for the first line.\n",
    "line1, = plt.plot(range(life_time), History, label=\"agent\", linestyle='--')\n",
    "line2, = plt.plot(range(life_time), [1640] * life_time, label=\"goal\", linewidth=4)\n",
    "first_legend = plt.legend(handles=[line1], loc=1)\n",
    "# Add the legend manually to the current Axes.\n",
    "ax = plt.gca().add_artist(first_legend)\n",
    "\n",
    "# Create another legend for the second line.\n",
    "second_legend = plt.legend(handles=[line2], loc=4)\n",
    "ax = plt.gca().add_artist(second_legend)\n",
    "\n",
    "\n",
    "\n",
    "\n",
    "#plt.plot(range(life_time), History)\n",
    "#plt.plot(range(life_time), [1640] * life_time)\n",
    "plt.show()"
   ]
  },
  {
   "cell_type": "code",
   "execution_count": null,
   "metadata": {},
   "outputs": [],
   "source": []
  }
 ],
 "metadata": {
  "kernelspec": {
   "display_name": "Python 3",
   "language": "python",
   "name": "python3"
  },
  "language_info": {
   "codemirror_mode": {
    "name": "ipython",
    "version": 3
   },
   "file_extension": ".py",
   "mimetype": "text/x-python",
   "name": "python",
   "nbconvert_exporter": "python",
   "pygments_lexer": "ipython3",
   "version": "3.6.7"
  }
 },
 "nbformat": 4,
 "nbformat_minor": 2
}
