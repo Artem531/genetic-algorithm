{
 "cells": [
  {
   "cell_type": "code",
   "execution_count": 12,
   "metadata": {},
   "outputs": [],
   "source": [
    "import math\n",
    "import random\n",
    "import copy\n",
    "import numpy as np\n",
    "import matplotlib.pyplot as plt\n",
    "\n",
    "# equations\n",
    "def parabula(x):\n",
    "    return x[0]**2 - x[1]\n",
    "\n",
    "def linear(x):\n",
    "    return x[0] - x[1]\n",
    "\n",
    "\n",
    "# mutation\n",
    "\n",
    "def mutation(generation, features, feature_range, number_of_mutations, vis_key = False):\n",
    "    # if we want visualise make new array for visualise\n",
    "    if vis_key == True:\n",
    "        features_for_vis = copy.deepcopy(features)\n",
    "    # take id of mutants\n",
    "    mutants = random.sample(generation, number_of_mutations)\n",
    "    # add new mutant skill\n",
    "    for mutant_id in mutants:\n",
    "        # where to change\n",
    "        skill_id = random.sample(range(len(features[mutant_id])), 1)[0]\n",
    "        # what to change\n",
    "        new_skill = random.sample(feature_range, 1)\n",
    "        if vis_key == True:\n",
    "            features_for_vis[mutant_id][skill_id] = new_skill\n",
    "        features[mutant_id][skill_id] = new_skill[0]\n",
    "    if vis_key == True:\n",
    "        return features, features_for_vis\n",
    "    return features\n",
    "\n",
    "# reproduction\n",
    "\n",
    "# sigmoid to make + prob bigger\n",
    "def sigmoid_plus(x):\n",
    "    try:\n",
    "        #math domain error fix\n",
    "        shift = 1\n",
    "        #---------------------\n",
    "        x = math.log10(x + shift) if x > 0 else -math.log10(abs(x) + shift)\n",
    "        result = 1 / (1 + math.exp(x))\n",
    "    except OverflowError:\n",
    "        result = 0\n",
    "    return result\n",
    "\n",
    "# sigmoid to make - prob bigger\n",
    "def sigmoid_minus(x, std, sensivity):\n",
    "    try:\n",
    "        # add sensivity\n",
    "        ## add normalize [-1*sensisity : 1*sensisity]\n",
    "        x = (x / std) * sensivity\n",
    "        result = 1 / (1 + math.exp(-x))\n",
    "    except OverflowError:\n",
    "        if x > 0:\n",
    "            result = 1\n",
    "        if x < 1:\n",
    "            result = 0\n",
    "    return result\n",
    "\n",
    "def count_probs_to_take_feature(generation, sensivity, find_max):\n",
    "    # alpha to except division by 0 \n",
    "    alpha = 0.000000000000000000001\n",
    "    max_result = abs(np.max(generation))\n",
    "    min_result = abs(np.min(generation))\n",
    "    if min_result > 0:\n",
    "        std = max_result\n",
    "    elif max_result < 0:\n",
    "        std = abs(min_result)\n",
    "    else:\n",
    "        std = max_result + min_result\n",
    "    #print('std', std)\n",
    "    if find_max == True:\n",
    "        coefficient_to_survive = list(map(lambda i: 1 / (sigmoid_plus(i) + alpha), generation))\n",
    "    else:\n",
    "        coefficient_to_survive = list(map(lambda i: (1 / (sigmoid_minus(i, std, sensivity) + alpha)), generation))\n",
    "        #print('coefficient_to_survive', coefficient_to_survive)\n",
    "    sum_of_probs_to_survive = np.sum(coefficient_to_survive)\n",
    "    # make prob to be taken\n",
    "    probs = list(map(lambda i: i / sum_of_probs_to_survive, coefficient_to_survive))\n",
    "    return probs\n",
    "\n",
    "\n",
    "def make_child(father, mother, vis_key):\n",
    "    # barrier to split features\n",
    "    alpha = random.sample(range(int(len(father) + 1)), 1)[0]\n",
    "    alpha = -alpha % len(father)\n",
    "    # add fix of not mixing features\n",
    "    first_part, _ = np.split(father, [alpha])\n",
    "    _, second_part = np.split(mother, [alpha])\n",
    "    if not first_part:\n",
    "        child = mother\n",
    "    elif not second_part:\n",
    "        child = father\n",
    "    else:\n",
    "        child = [i for i in first_part] + [i for i in list(second_part)]\n",
    "    \n",
    "    #if len(child) == 1:\n",
    "        #print(father, mother)\n",
    "        #print(first_part, second_part)\n",
    "        #print(alpha)\n",
    "    return child\n",
    "\n",
    "\n",
    "def reproduction(generation_results, features, num_of_children, sensivity, vis_key=False, find_max = True):\n",
    "    \n",
    "    # discard the same results, because they will affect to prob\n",
    "    # add fix for multiple mins\n",
    "    \n",
    "    #features, index = np.unique(features, return_index=True, axis = 0)\n",
    "    #generation_results = [generation_results[i] for i in index]\n",
    "    \n",
    "    #print('--------------------')\n",
    "    #print('features', features)\n",
    "    #print('generation_results', generation_results)\n",
    "    \n",
    "    new_generation_features = []\n",
    "    vis_new_generation_features = []\n",
    "    probs = count_probs_to_take_feature(generation_results, sensivity, find_max)\n",
    "    #print('probs', probs)\n",
    "    for child_id in range(num_of_children):\n",
    "        # take father and mother with the best features\n",
    "        father_id = np.random.choice(range(len(generation_results)), p=probs)\n",
    "        mother_id = np.random.choice(range(len(generation_results)), p=probs)\n",
    "\n",
    "        if vis_key == True:\n",
    "            child, vis_child = make_child(features[father_id], features[mother_id], vis_key)\n",
    "            vis_new_generation_features.append(vis_child)\n",
    "        else:\n",
    "            child = make_child(features[father_id], features[mother_id], vis_key)\n",
    "        new_generation_features.append(child)\n",
    "    if vis_key == True:\n",
    "        return new_generation_features, vis_new_generation_features\n",
    "    return new_generation_features\n",
    "\n",
    "# evaluate\n",
    "\n",
    "def evaluate(features, function):\n",
    "    generation_results = []\n",
    "    for feature in features:\n",
    "        generation_results.append(function(feature))\n",
    "    return generation_results\n",
    "\n",
    "# run genetic algorithm\n",
    "\n",
    "def run_genetic_algorithm(features, function, feature_range, num_of_children, speed_parameter, year, find_max, sensivity = 1):\n",
    "    generation_results = evaluate(features, function)\n",
    "    generation_ids = range(len(generation_results))\n",
    "    if year % speed_parameter == 0:\n",
    "        # make mutation\n",
    "        number_of_mutations = random.sample(range(int(len(generation_results) / 10 + 1)), 1)[0]\n",
    "        features = mutation(generation_ids, copy.deepcopy(features), feature_range, number_of_mutations)\n",
    "        generation_results = evaluate(features, function)\n",
    "    # get new features\n",
    "    features = reproduction(generation_results, features, num_of_children, sensivity = sensivity,find_max = find_max)\n",
    "    return features\n",
    "\n",
    "def run_genetic_algorithm_with_smart_mutation(features, old_generation_results, function, feature_range, num_of_children, speed_parameter, year, find_max, sensivity = 1):\n",
    "    generation_results = evaluate(features, function)\n",
    "    generation_ids = range(len(generation_results))\n",
    "    #print('-isclose-',np.mean(generation_results), np.mean(old_generation_results), np.isclose(np.mean(generation_results), np.mean(old_generation_results)))\n",
    "    if np.isclose(np.mean(generation_results), np.mean(old_generation_results)):\n",
    "        # make mutation\n",
    "        number_of_mutations = random.sample(range(int(len(generation_results) / 10 + 1)), 1)[0]\n",
    "        features = mutation(generation_ids, copy.deepcopy(features), feature_range, number_of_mutations)\n",
    "        generation_results = evaluate(features, function)\n",
    "    # get new features\n",
    "    new_features = reproduction(generation_results, features, num_of_children, sensivity = sensivity,find_max = find_max)\n",
    "    return new_features, features\n",
    "\n",
    "# plot history\n",
    "\n",
    "def plot(History):\n",
    "    fig = plt.figure()\n",
    "\n",
    "    ax = fig.add_subplot(111)\n",
    "    fig.subplots_adjust(top=0.85)\n",
    "    ax.set_xlabel('year')\n",
    "    ax.set_ylabel('value')\n",
    "\n",
    "    # Create a legend for the first line.\n",
    "    line1, = plt.plot(range(len(History)), History, label=\"agent\", linestyle='--')\n",
    "\n",
    "    first_legend = plt.legend(handles=[line1], loc=1)\n",
    "    # Add the legend manually to the current Axes.\n",
    "    ax = plt.gca().add_artist(first_legend)\n",
    "    plt.show()"
   ]
  },
  {
   "cell_type": "code",
   "execution_count": 13,
   "metadata": {},
   "outputs": [],
   "source": [
    "\n",
    "def find_max(features, function, life_time, feature_range, num_of_children, speed_parameter):\n",
    "    init_results = np.average(evaluate(features, function))\n",
    "    print(evaluate(features, function))\n",
    "    print('init results: ', init_results)\n",
    "    History = []\n",
    "\n",
    "    find_max = True\n",
    "    for year in range(life_time):\n",
    "        # print(year)\n",
    "        features = run_genetic_algorithm(features, function, feature_range, num_of_children, speed_parameter, year, find_max)\n",
    "        old_generation_results = evaluate(features, function)\n",
    "        result = np.average(old_generation_results)\n",
    "        History.append(result)\n",
    "\n",
    "    print('done!')\n",
    "    print('final result', np.average(old_generation_results))\n",
    "\n",
    "    plot(History)\n",
    "\n",
    "\n",
    "def find_min(old_features, function, life_time, feature_range, num_of_children, speed_parameter, sensivity, smart_mutation = False):\n",
    "    new_features = copy.deepcopy(old_features)\n",
    "    print(old_features)\n",
    "    init_results = np.average(evaluate(old_features, function))\n",
    "    old_generation_results = init_results\n",
    "    print(evaluate(old_features, function))\n",
    "    print('init results: ', init_results)\n",
    "    History = []\n",
    "    \n",
    "    find_max = False\n",
    "    for year in range(life_time):\n",
    "        # print(year)\n",
    "        \n",
    "        if smart_mutation == True:\n",
    "            new_features, old_features = run_genetic_algorithm_with_smart_mutation(new_features, old_generation_results, function, feature_range, num_of_children, speed_parameter, year, sensivity = sensivity, find_max = find_max)\n",
    "        else:\n",
    "            old_features = run_genetic_algorithm(old_features, function, feature_range, num_of_children, speed_parameter, year, sensivity = sensivity, find_max = find_max)\n",
    "        #print(old_generation_results)\n",
    "        old_generation_results = evaluate(old_features, function)\n",
    "        #print(old_generation_results, np.average(old_generation_results))\n",
    "        result = np.average(old_generation_results)\n",
    "        History.append(result)\n",
    "\n",
    "    print('done!')\n",
    "    print('final result', np.average(old_generation_results))\n",
    "    #print(old_features)\n",
    "    plot(History)\n",
    "    return new_features"
   ]
  },
  {
   "cell_type": "code",
   "execution_count": 14,
   "metadata": {},
   "outputs": [
    {
     "name": "stdout",
     "output_type": "stream",
     "text": [
      "[[10, 4], [14, 21], [10, 1], [14, 10], [10, 40]]\n",
      "[96, 175, 99, 186, 60]\n",
      "init results:  123.2\n"
     ]
    },
    {
     "name": "stderr",
     "output_type": "stream",
     "text": [
      "/home/artem/anaconda3/envs/pixor_tmp/lib/python3.6/site-packages/ipykernel_launcher.py:94: DeprecationWarning: The truth value of an empty array is ambiguous. Returning False, but in future this will result in an error. Use `array.size > 0` to check that an array is not empty.\n"
     ]
    },
    {
     "name": "stdout",
     "output_type": "stream",
     "text": [
      "done!\n",
      "final result -39.0\n"
     ]
    },
    {
     "data": {
      "image/png": "[encoded data removed]",
      "text/plain": [
       "<Figure size 432x288 with 1 Axes>"
      ]
     },
     "metadata": {
      "needs_background": "light"
     },
     "output_type": "display_data"
    },
    {
     "data": {
      "text/plain": [
       "[[10, 4], [14, 21], [10, 1], [14, 10], [10, 40]]"
      ]
     },
     "execution_count": 14,
     "metadata": {},
     "output_type": "execute_result"
    }
   ],
   "source": [
    "features = [[10, 4], [14, 21], [10, 1], [14, 10], [10, 40]]\n",
    "function = parabula\n",
    "life_time = 1000\n",
    "\n",
    "feature_range = range(-40, 40)\n",
    "num_of_children = 100\n",
    "speed_parameter = 5\n",
    "sensivity = 1\n",
    "\n",
    "find_min(features, function, life_time, feature_range, num_of_children, speed_parameter, sensivity)"
   ]
  },
  {
   "cell_type": "code",
   "execution_count": 15,
   "metadata": {},
   "outputs": [
    {
     "name": "stdout",
     "output_type": "stream",
     "text": [
      "[96, 175, 99, 186, 60]\n",
      "init results:  123.2\n"
     ]
    },
    {
     "name": "stderr",
     "output_type": "stream",
     "text": [
      "/home/artem/anaconda3/envs/pixor_tmp/lib/python3.6/site-packages/ipykernel_launcher.py:94: DeprecationWarning: The truth value of an empty array is ambiguous. Returning False, but in future this will result in an error. Use `array.size > 0` to check that an array is not empty.\n"
     ]
    },
    {
     "name": "stdout",
     "output_type": "stream",
     "text": [
      "done!\n",
      "final result 1599.55\n"
     ]
    },
    {
     "data": {
      "image/png": "[encoded data removed]",
      "text/plain": [
       "<Figure size 432x288 with 1 Axes>"
      ]
     },
     "metadata": {
      "needs_background": "light"
     },
     "output_type": "display_data"
    }
   ],
   "source": [
    "find_max(features, function, life_time, feature_range, num_of_children, speed_parameter)"
   ]
  },
  {
   "cell_type": "code",
   "execution_count": 9,
   "metadata": {},
   "outputs": [],
   "source": [
    "def ackley(x, a=20, b=0.2, c=2*np.pi):\n",
    "    \"\"\"\n",
    "    x: vector of input values\n",
    "    \"\"\"\n",
    "    d = len(x) # dimension of input vector x\n",
    "    x = np.array(x)\n",
    "    sum_sq_term = -a * np.exp(-b * np.sqrt(sum(x*x) / d))\n",
    "    cos_term = -np.exp(sum(np.cos(c*x) / d))\n",
    "    return (a + np.exp(1) + sum_sq_term + cos_term)\n"
   ]
  },
  {
   "cell_type": "code",
   "execution_count": 10,
   "metadata": {},
   "outputs": [
    {
     "name": "stdout",
     "output_type": "stream",
     "text": [
      "[[10, 4], [14, 21], [10, 1], [14, 10], [10, 40]]\n",
      "[15.63953958140311, 19.43649630368633, 15.171841011518413, 18.2447219780535, 19.941294368588597]\n",
      "init results:  17.68677864864999\n"
     ]
    },
    {
     "name": "stderr",
     "output_type": "stream",
     "text": [
      "/home/artem/anaconda3/envs/pixor_tmp/lib/python3.6/site-packages/ipykernel_launcher.py:94: DeprecationWarning: The truth value of an empty array is ambiguous. Returning False, but in future this will result in an error. Use `array.size > 0` to check that an array is not empty.\n"
     ]
    },
    {
     "name": "stdout",
     "output_type": "stream",
     "text": [
      "done!\n",
      "final result 3.6253849384403605\n"
     ]
    },
    {
     "data": {
      "image/png": "[encoded data removed]",
      "text/plain": [
       "<Figure size 432x288 with 1 Axes>"
      ]
     },
     "metadata": {
      "needs_background": "light"
     },
     "output_type": "display_data"
    },
    {
     "data": {
      "text/plain": [
       "[[1, 1],\n",
       " [1, 1],\n",
       " [1, 1],\n",
       " [1, 1],\n",
       " [1, 1],\n",
       " [1, 1],\n",
       " [1, 1],\n",
       " [1, 1],\n",
       " [1, 1],\n",
       " [1, 1],\n",
       " [1, 1],\n",
       " [1, 1],\n",
       " [1, 1],\n",
       " [1, 1],\n",
       " [1, 1],\n",
       " [1, 1],\n",
       " [1, 1],\n",
       " [1, 1],\n",
       " [1, 1],\n",
       " [1, 1],\n",
       " [1, 1],\n",
       " [1, 1],\n",
       " [1, 1],\n",
       " [1, 1],\n",
       " [1, 1],\n",
       " [1, 1],\n",
       " [1, 1],\n",
       " [1, 1],\n",
       " [1, 1],\n",
       " [1, 1],\n",
       " [1, 1],\n",
       " [1, 1],\n",
       " [1, 1],\n",
       " [1, 1],\n",
       " [1, 1],\n",
       " [1, 1],\n",
       " [1, 1],\n",
       " [1, 1],\n",
       " [1, 1],\n",
       " [1, 1],\n",
       " [1, 1],\n",
       " [1, 1],\n",
       " [1, 1],\n",
       " [1, 1],\n",
       " [1, 1],\n",
       " [1, 1],\n",
       " [1, 1],\n",
       " [1, 1],\n",
       " [1, 1],\n",
       " [1, 1],\n",
       " [1, 1],\n",
       " [1, 1],\n",
       " [1, 1],\n",
       " [1, 1],\n",
       " [1, 1],\n",
       " [1, 1],\n",
       " [1, 1],\n",
       " [1, 1],\n",
       " [1, 1],\n",
       " [1, 1],\n",
       " [1, 1],\n",
       " [1, 1],\n",
       " [1, 1],\n",
       " [1, 1],\n",
       " [1, 1],\n",
       " [1, 1],\n",
       " [1, 1],\n",
       " [1, 1],\n",
       " [1, 1],\n",
       " [1, 1],\n",
       " [1, 1],\n",
       " [1, 1],\n",
       " [1, 1],\n",
       " [1, 1],\n",
       " [1, 1],\n",
       " [1, 1],\n",
       " [1, 1],\n",
       " [1, 1],\n",
       " [1, 1],\n",
       " [1, 1],\n",
       " [1, 1],\n",
       " [1, 1],\n",
       " [1, 1],\n",
       " [1, 1],\n",
       " [1, 1],\n",
       " [1, 1],\n",
       " [1, 1],\n",
       " [1, 1],\n",
       " [1, 1],\n",
       " [1, 1],\n",
       " [1, 1],\n",
       " [1, 1],\n",
       " [1, 1],\n",
       " [1, 1],\n",
       " [1, 1],\n",
       " [1, 1],\n",
       " [1, 1],\n",
       " [1, 1],\n",
       " [1, 1],\n",
       " [1, 1]]"
      ]
     },
     "execution_count": 10,
     "metadata": {},
     "output_type": "execute_result"
    }
   ],
   "source": [
    "features = [[10, 4], [14, 21], [10, 1], [14, 10], [10, 40]]\n",
    "function = ackley\n",
    "life_time = 1000\n",
    "\n",
    "feature_range = range(-40, 40)\n",
    "num_of_children = 100\n",
    "smart_mutation = True\n",
    "#speed_parameter = 10000\n",
    "sensivity = 1\n",
    "\n",
    "find_min(features, function, life_time, feature_range, num_of_children, speed_parameter, sensivity, smart_mutation)"
   ]
  },
  {
   "cell_type": "code",
   "execution_count": null,
   "metadata": {},
   "outputs": [],
   "source": []
  }
 ],
 "metadata": {
  "kernelspec": {
   "display_name": "Python 3",
   "language": "python",
   "name": "python3"
  },
  "language_info": {
   "codemirror_mode": {
    "name": "ipython",
    "version": 3
   },
   "file_extension": ".py",
   "mimetype": "text/x-python",
   "name": "python",
   "nbconvert_exporter": "python",
   "pygments_lexer": "ipython3",
   "version": "3.6.7"
  }
 },
 "nbformat": 4,
 "nbformat_minor": 2
}
